{
  "nbformat": 4,
  "nbformat_minor": 0,
  "metadata": {
    "colab": {
      "provenance": [],
      "authorship_tag": "ABX9TyPVc+/DEop6MDq4Wleh0gU8",
      "include_colab_link": true
    },
    "kernelspec": {
      "name": "python3",
      "display_name": "Python 3"
    },
    "language_info": {
      "name": "python"
    }
  },
  "cells": [
    {
      "cell_type": "markdown",
      "metadata": {
        "id": "view-in-github",
        "colab_type": "text"
      },
      "source": [
        "<a href=\"https://colab.research.google.com/github/mahlegha/Sorting/blob/main/Sorting.ipynb\" target=\"_parent\"><img src=\"https://colab.research.google.com/assets/colab-badge.svg\" alt=\"Open In Colab\"/></a>"
      ]
    },
    {
      "cell_type": "code",
      "source": [
        "### You are given an integer array score of size n, where score[i] is the score of the ith athlete in a competition.\n",
        "### All the scores are guaranteed to be unique.\n",
        "### The athletes are placed based on their scores, where the 1st place athlete has the highest score,\n",
        "### the 2nd place athlete has the 2nd highest score, and so on. The placement of each athlete determines their rank:\n",
        "### The 1st place athlete's rank is \"Gold Medal\".\n",
        "### The 2nd place athlete's rank is \"Silver Medal\".\n",
        "### The 3rd place athlete's rank is \"Bronze Medal\".\n",
        "### For the 4th place to the nth place athlete, their rank is their placement number (i.e., the xth place athlete's rank is \"x\").\n",
        "### Return an array answer of size n where answer[i] is the rank of the ith athlete."
      ],
      "metadata": {
        "id": "g-T4JaDHuMOf"
      },
      "execution_count": 145,
      "outputs": []
    },
    {
      "cell_type": "code",
      "execution_count": 146,
      "metadata": {
        "id": "L0PpfIlSVGKz"
      },
      "outputs": [],
      "source": [
        "def find_athlete_ranks(scores):\n",
        "  sorted_scores = sorted(scores, reverse=True)\n",
        "  rank_dict = {}\n",
        "  for i, score in enumerate(sorted_scores):\n",
        "    if i == 0:\n",
        "      rank_dict[score] = \"Gold Medal\"\n",
        "    elif i == 1:\n",
        "      rank_dict[score] = \"Silver Medal\"\n",
        "    elif i == 2:\n",
        "      rank_dict[score] = \"Bronze Medal\"\n",
        "    else:\n",
        "      rank_dict[score] = str(i + 1)\n",
        "  return [rank_dict[score] for score in scores]"
      ]
    },
    {
      "cell_type": "code",
      "source": [
        "score = [10, 5, 20, 15]"
      ],
      "metadata": {
        "id": "ITuvu9sbd53T"
      },
      "execution_count": 147,
      "outputs": []
    },
    {
      "cell_type": "code",
      "source": [
        "find_athlete_ranks(score)"
      ],
      "metadata": {
        "colab": {
          "base_uri": "https://localhost:8080/"
        },
        "id": "qWILVKXBd-Mv",
        "outputId": "b945b587-4425-4961-ae30-76ed58396361"
      },
      "execution_count": 148,
      "outputs": [
        {
          "output_type": "execute_result",
          "data": {
            "text/plain": [
              "['Bronze Medal', '4', 'Gold Medal', 'Silver Medal']"
            ]
          },
          "metadata": {},
          "execution_count": 148
        }
      ]
    },
    {
      "cell_type": "code",
      "source": [
        "### You are given an array of integers stones where stones[i] is the weight of the ith stone.\n",
        "### We are playing a game with the stones. On each turn, we choose the heaviest two stones and smash them together.\n",
        "### Suppose the heaviest two stones have weights x and y with x <= y. The result of this smash is:\n",
        "### If x == y, both stones are destroyed, and\n",
        "### If x != y, the stone of weight x is destroyed, and the stone of weight y has new weight y - x.\n",
        "### At the end of the game, there is at most one stone left.\n",
        "### Return the weight of the last remaining stone. If there are no stones left, return 0."
      ],
      "metadata": {
        "id": "Ja3XJm0UeCCD"
      },
      "execution_count": 130,
      "outputs": []
    },
    {
      "cell_type": "code",
      "source": [
        "def last_stone_weight(stones):\n",
        "  while len(stones) > 1:\n",
        "    stones.sort()\n",
        "    heaviest1 = stones.pop()\n",
        "    heaviest2 = stones.pop()\n",
        "    if heaviest1 != heaviest2:\n",
        "      stones.append(abs(heaviest1 - heaviest2))\n",
        "  return stones[0] if stones else 0\n",
        ""
      ],
      "metadata": {
        "id": "hJPdTePAu9EQ"
      },
      "execution_count": 131,
      "outputs": []
    },
    {
      "cell_type": "code",
      "source": [
        "stone = [2, 7, 4, 1, 8, 1]"
      ],
      "metadata": {
        "id": "zIdQw1Q1wlRE"
      },
      "execution_count": 132,
      "outputs": []
    },
    {
      "cell_type": "code",
      "source": [
        "last_stone_weight(stone)"
      ],
      "metadata": {
        "colab": {
          "base_uri": "https://localhost:8080/"
        },
        "collapsed": true,
        "id": "z2_7iOSjwvD6",
        "outputId": "ff43567c-073b-4637-e77b-7ac2c35ce7b1"
      },
      "execution_count": 133,
      "outputs": [
        {
          "output_type": "execute_result",
          "data": {
            "text/plain": [
              "1"
            ]
          },
          "metadata": {},
          "execution_count": 133
        }
      ]
    },
    {
      "cell_type": "code",
      "source": [],
      "metadata": {
        "id": "1X6U97xKwx0F"
      },
      "execution_count": null,
      "outputs": []
    }
  ]
}